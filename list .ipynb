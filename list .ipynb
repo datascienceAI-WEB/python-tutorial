{
 "cells": [
  {
   "cell_type": "code",
   "execution_count": 2,
   "id": "9b659a4e-2799-4556-93bc-22f6ddade67d",
   "metadata": {},
   "outputs": [],
   "source": [
    "#list\n",
    "\n",
    "#sequence data structure\n",
    "#Hetreogenous\n",
    "#ordered or indexed\n",
    "#\"mutable\"\n",
    "#enclosed in[](\"sequare\"baracket)\n",
    "\n",
    "#example\n",
    "#ls=[21,32,34,\"hello\",54,56]\n",
    "#ls['a','e','i','o','u',] #list of chars or string\n",
    "#la=[21,32,43,56,76] #list of float\n",
    "#ls=[21,32,56,34,63,\"hello\"] #mixed type\n"
   ]
  },
  {
   "cell_type": "code",
   "execution_count": 3,
   "id": "740f66e9-adda-43ec-ae6e-f48bdef74d74",
   "metadata": {},
   "outputs": [
    {
     "name": "stdout",
     "output_type": "stream",
     "text": [
      "['h', 'e', 'l', 'l', 'o']\n"
     ]
    }
   ],
   "source": [
    "#by using constructor\n",
    "\n",
    "\n",
    "ls=list(\"hello\")\n",
    "print(ls)"
   ]
  },
  {
   "cell_type": "code",
   "execution_count": 4,
   "id": "aa9dcf39-4b25-492f-99da-7b1386d5bac7",
   "metadata": {},
   "outputs": [
    {
     "name": "stdout",
     "output_type": "stream",
     "text": [
      "[12, 32, 34]\n"
     ]
    }
   ],
   "source": [
    "ls=list ((12,32,34))\n",
    "print(ls)"
   ]
  },
  {
   "cell_type": "code",
   "execution_count": 6,
   "id": "8069ed0f-aef2-4c00-a632-c0f8f7a16534",
   "metadata": {},
   "outputs": [
    {
     "name": "stdout",
     "output_type": "stream",
     "text": [
      "11\n",
      "44\n",
      "77\n"
     ]
    }
   ],
   "source": [
    "#ls[1,2,3,4,[7,8,9],11,[2]] # nested list\n",
    "#accessing of list elements.\n",
    "\n",
    "ls=[11,22,33,44,55,66,77,88,99]\n",
    "print(ls[0])\n",
    "print(ls[3])\n",
    "print(ls[-3])"
   ]
  },
  {
   "cell_type": "code",
   "execution_count": 8,
   "id": "55d8c1d5-6431-4658-a752-342abc56adff",
   "metadata": {},
   "outputs": [
    {
     "name": "stdout",
     "output_type": "stream",
     "text": [
      "56\n",
      "[45, 56, 67, 78, [67, 54, 343]]\n",
      "67\n"
     ]
    }
   ],
   "source": [
    "#when we move left to right index are 0------ on wards\n",
    "#but if we movefrome right then index will start from -1\n",
    "\n",
    "ls=[21,23,34,45,56,[45,56,67,78,[67,54,343]],5,[89]]\n",
    "print (ls[4])\n",
    "print(ls[5])\n",
    "print(ls[5][2])    \n"
   ]
  },
  {
   "cell_type": "code",
   "execution_count": 9,
   "id": "7b2c8bdb-3a0a-47d9-8a49-cab971745621",
   "metadata": {},
   "outputs": [
    {
     "data": {
      "text/plain": [
       "[21, 23, 34, 45, 56, [45, 56, 67, 78, [67, 54, 343]], 5, [89]]"
      ]
     },
     "execution_count": 9,
     "metadata": {},
     "output_type": "execute_result"
    }
   ],
   "source": [
    "#slice operation \n",
    "#  \":\"\n",
    "ls[3:8]#34567\n",
    "ls[:8] #from the begining\n",
    "ls[3:]# start from 3 end tobthe last\n",
    "ls[:] # from the begining to last"
   ]
  },
  {
   "cell_type": "code",
   "execution_count": 11,
   "id": "8b6a5626-2d12-489d-8bcd-04f49325d54b",
   "metadata": {},
   "outputs": [
    {
     "name": "stdout",
     "output_type": "stream",
     "text": [
      "[45, 56, [45, 56, 67, 78, [67, 54, 343]], 5, [89]]\n",
      "[21, 23, 34, 45, 56, [45, 56, 67, 78, [67, 54, 343]], 5, [89]]\n",
      "[45, 56, [45, 56, 67, 78, [67, 54, 343]], 5, [89]]\n",
      "[21, 23, 34, 45, 56, [45, 56, 67, 78, [67, 54, 343]], 5, [89]]\n"
     ]
    }
   ],
   "source": [
    "ls:[12,32,34,45,56,67,78,89,98,87]\n",
    "print(ls[3:8])\n",
    "print(ls[:8])\n",
    "print(ls[3:])\n",
    "print(ls[:])      "
   ]
  },
  {
   "cell_type": "code",
   "execution_count": 12,
   "id": "b2dd6c3e-e8c6-4017-bdae-60883e7540ad",
   "metadata": {},
   "outputs": [
    {
     "name": "stdout",
     "output_type": "stream",
     "text": [
      "[12, 23, 34, 45, 56, 67]\n",
      "[12, 23, 'hello', 45, 56, 67]\n"
     ]
    }
   ],
   "source": [
    "# uptading\n",
    "\n",
    "ls=[12,23,34,45,56,67]\n",
    "print(ls)\n",
    "ls[2]=\"hello\"\n",
    "print(ls)"
   ]
  },
  {
   "cell_type": "code",
   "execution_count": 14,
   "id": "93c2ef6e-a6d4-40cb-91c0-5bc122f74b52",
   "metadata": {},
   "outputs": [
    {
     "name": "stdout",
     "output_type": "stream",
     "text": [
      "[12, 23, 'hello', 'how', 'are', 'you']\n"
     ]
    }
   ],
   "source": [
    "ls[3:6]=[\"how\",\"are\",\"you\"]\n",
    "print(ls)"
   ]
  },
  {
   "cell_type": "code",
   "execution_count": 2,
   "id": "81207877-3d01-4a51-80d6-2923de4e6e1a",
   "metadata": {},
   "outputs": [
    {
     "name": "stdout",
     "output_type": "stream",
     "text": [
      "[12, 23, 34, 45, 56, 67, 78, 89, 98, 87]\n",
      "[12, 23, 34, 56, 67, 78, 89, 98, 87]\n"
     ]
    }
   ],
   "source": [
    "# delete an element from the list\n",
    "\n",
    "#del-----2ways\n",
    "#pop------2 ways\n",
    "#remove-----1\n",
    "\n",
    "ls=[12,23,34,45,56,67,78,89,98,87]\n",
    "print(ls)\n",
    "del ls[3]\n",
    "print(ls)\n"
   ]
  },
  {
   "cell_type": "code",
   "execution_count": 3,
   "id": "4cb7d85d-1b2f-4c6c-84e3-33733bcce95d",
   "metadata": {},
   "outputs": [
    {
     "name": "stdout",
     "output_type": "stream",
     "text": [
      "[12, 23, 34, 45, 56, 67, 78, 89, 98, 87]\n",
      "[12, 23, 34, 56, 67, 78, 89, 98, 87]\n",
      "[12, 23, 78, 89, 98, 87]\n"
     ]
    }
   ],
   "source": [
    "ls=[12,23,34,45,56,67,78,89,98,87]\n",
    "print(ls)\n",
    "del ls[3]\n",
    "print(ls)\n",
    "del ls[2:5]\n",
    "print(ls)"
   ]
  },
  {
   "cell_type": "code",
   "execution_count": 4,
   "id": "bf798d68-66cb-4393-96c3-74aa40f12607",
   "metadata": {},
   "outputs": [
    {
     "name": "stdout",
     "output_type": "stream",
     "text": [
      "[12, 23, 34, 45, 56, 67, 78, 89, 98, 87]\n",
      "[12, 23, 34, 56, 67, 78, 89, 98, 87]\n"
     ]
    }
   ],
   "source": [
    "# pop\n",
    "\n",
    "ls=[12,23,34,45,56,67,78,89,98,87]\n",
    "print(ls)\n",
    "ls.pop(3)\n",
    "print(ls)"
   ]
  },
  {
   "cell_type": "code",
   "execution_count": 5,
   "id": "3fa19057-dcac-477d-bdd1-3abc772124a5",
   "metadata": {},
   "outputs": [
    {
     "name": "stdout",
     "output_type": "stream",
     "text": [
      "[12, 23, 34, 45, 56, 67, 78, 89, 98, 87]\n",
      "[12, 23, 34, 45, 56, 67, 78, 89, 98]\n",
      "[12, 23, 34, 45, 56, 67, 78, 89]\n",
      "[12, 23, 34, 45, 56, 67, 78]\n"
     ]
    }
   ],
   "source": [
    "ls=[12,23,34,45,56,67,78,89,98,87]\n",
    "print(ls)\n",
    "ls.pop()\n",
    "print(ls)\n",
    "ls.pop()\n",
    "print(ls)\n",
    "ls.pop()\n",
    "print(ls)"
   ]
  },
  {
   "cell_type": "code",
   "execution_count": 6,
   "id": "609d9916-0a5e-422a-b873-ef759b5b6d9a",
   "metadata": {},
   "outputs": [
    {
     "name": "stdout",
     "output_type": "stream",
     "text": [
      "[12, 23, 34, 45, 56, 67]\n",
      "[12, 23, 34, 56, 67]\n"
     ]
    }
   ],
   "source": [
    "# delete the first occurrence of the element in the list \n",
    "\n",
    "ls=[12,23,34,45,56,67]\n",
    "print(ls)\n",
    "ls.remove(45)\n",
    "print(ls)"
   ]
  },
  {
   "cell_type": "code",
   "execution_count": 7,
   "id": "b76fa89e-db17-4b9f-a463-7cd3d7223f5e",
   "metadata": {},
   "outputs": [],
   "source": [
    "# list methods\n",
    "#append()\n",
    "#extend()\n",
    "#insert()\n",
    "#copy()\n",
    "#count()\n",
    "#index()\n",
    "#sort()\n",
    "#reverse()\n",
    "#max()\n",
    "#min()\n",
    "#sum()"
   ]
  },
  {
   "cell_type": "code",
   "execution_count": 9,
   "id": "056d0a15-a98f-4120-89be-6b0d8d89fe1c",
   "metadata": {},
   "outputs": [
    {
     "name": "stdout",
     "output_type": "stream",
     "text": [
      "[12, 23, 34, 45, 56, 67]\n",
      "[12, 23, 34, 45, 56, 67, 98]\n",
      "[12, 23, 34, 45, 56, 67, 98, ['hello', 'how', 'you']]\n"
     ]
    }
   ],
   "source": [
    "# append()\n",
    "#it is used to insert an element in the list at the end\n",
    "# ls. append(element)\n",
    "\n",
    "ls=[12,23,34,45,56,67]\n",
    "print(ls)\n",
    "ls.append(98)\n",
    "print(ls)\n",
    "ls.append([\"hello\",\"how\",\"you\"])\n",
    "print(ls)"
   ]
  },
  {
   "cell_type": "code",
   "execution_count": 11,
   "id": "6f030cd1-2475-4232-acdd-771a57fc2eb5",
   "metadata": {},
   "outputs": [
    {
     "name": "stdin",
     "output_type": "stream",
     "text": [
      "enter the number 54\n",
      "enter the number 65\n",
      "enter the number 69\n",
      "enter the number 46\n",
      "enter the number 69\n",
      "enter the number 54\n",
      "enter the number 34\n",
      "enter the number 54\n",
      "enter the number 56\n",
      "enter the number 54\n"
     ]
    },
    {
     "name": "stdout",
     "output_type": "stream",
     "text": [
      "[54, 65, 69, 46, 69, 54, 34, 54, 56, 54]\n"
     ]
    }
   ],
   "source": [
    "# make a list of 10 integers of your choice\n",
    "\n",
    "ls=[]\n",
    "for i in range (10):\n",
    "    n=int(input(\"enter the number\"))\n",
    "    ls.append(n)\n",
    "print(ls)    \n"
   ]
  },
  {
   "cell_type": "code",
   "execution_count": 15,
   "id": "5cd5dfff-71ea-4500-90dd-a2c0431616c0",
   "metadata": {},
   "outputs": [
    {
     "name": "stdin",
     "output_type": "stream",
     "text": [
      "enter the number 12\n",
      "enter the number 32\n",
      "enter the number 34\n",
      "enter the number 54\n",
      "enter the number 56\n",
      "enter the number 76\n",
      "enter the number 87\n",
      "enter the number 98\n",
      "enter the number 56\n",
      "enter the number 67\n"
     ]
    },
    {
     "name": "stdout",
     "output_type": "stream",
     "text": [
      "[12, 32, 34, 54, 56, 76, 87, 98, 56, 67]\n",
      "the sum of list is  572\n"
     ]
    }
   ],
   "source": [
    "ls=[]\n",
    "for i in range(10):\n",
    "    n=int(input(\"enter the number\"))\n",
    "    ls.append(n)\n",
    "print(ls)\n",
    "print(\"the sum of list is \",sum(ls))"
   ]
  },
  {
   "cell_type": "code",
   "execution_count": 16,
   "id": "be8049c4-d2b3-4f3c-b11a-d97f8c02727b",
   "metadata": {},
   "outputs": [
    {
     "name": "stdout",
     "output_type": "stream",
     "text": [
      "original list [0, 1, 2, 3, 4, 5, 6, 7, 8, 9, 10, 11, 12, 13, 14, 15, 16, 17, 18, 19, 20, 21, 22, 23, 24, 25, 26, 27, 28, 29, 30, 31, 32, 33, 34, 35, 36, 37, 38, 39, 40, 41, 42, 43, 44, 45, 46, 47, 48, 49]\n",
      "even list [0, 2, 4, 6, 8, 10, 12, 14, 16, 18, 20, 22, 24, 26, 28, 30, 32, 34, 36, 38, 40, 42, 44, 46, 48]\n",
      "odd list [1, 3, 5, 7, 9, 11, 13, 15, 17, 19, 21, 23, 25, 27, 29, 31, 33, 35, 37, 39, 41, 43, 45, 47, 49]\n"
     ]
    }
   ],
   "source": [
    "# make the list of odd and even number separately\n",
    "ls=[]\n",
    "ls_e=[]\n",
    "ls_o=[]\n",
    "for i in range(50):\n",
    "    ls.append(i)\n",
    "print(\"original list\",ls)\n",
    "for i in ls:\n",
    "    if i%2==0:\n",
    "        ls_e.append(i)\n",
    "    else:\n",
    "        ls_o.append(i)\n",
    "print(\"even list\",ls_e)\n",
    "print(\"odd list\",ls_o)"
   ]
  },
  {
   "cell_type": "code",
   "execution_count": 17,
   "id": "b919a6ce-4297-467c-9041-efa9ae9de878",
   "metadata": {},
   "outputs": [
    {
     "name": "stdin",
     "output_type": "stream",
     "text": [
      "enter the number 43\n",
      "enter the number 45\n",
      "enter the number 87\n",
      "enter the number 65\n",
      "enter the number 24\n"
     ]
    },
    {
     "name": "stdout",
     "output_type": "stream",
     "text": [
      "[43, 45, 87, 65, 24]\n",
      "max element is 87\n"
     ]
    }
   ],
   "source": [
    "# extend()\n",
    "#it is used to insert mere then one element in the list element are always inserted at the end of the list\n",
    "# ls. extend (iter)\n",
    "\n",
    "\n",
    "\n",
    "ls=[]\n",
    "for i in range(5):\n",
    "    n=int(input(\"enter the number\"))\n",
    "    ls.append(n)\n",
    "print(ls)\n",
    "print(\"max element is\",max(ls))"
   ]
  },
  {
   "cell_type": "code",
   "execution_count": 1,
   "id": "117a7353-7f25-4f38-b78a-53ea9b79ae67",
   "metadata": {},
   "outputs": [
    {
     "name": "stdin",
     "output_type": "stream",
     "text": [
      "enter the number 45\n",
      "enter the number 45\n",
      "enter the number 56\n",
      "enter the number 67\n",
      "enter the number 43\n"
     ]
    },
    {
     "name": "stdout",
     "output_type": "stream",
     "text": [
      "[45, 45, 56, 67, 43]\n",
      "max element is  [45, 45, 56, 67, 43]\n"
     ]
    }
   ],
   "source": [
    "ls=[]\n",
    "for i in range(5):\n",
    "    n=int(input(\"enter the number\"))\n",
    "    ls.append(n)\n",
    "print(ls)\n",
    "large=ls[0]\n",
    "for i in ls:\n",
    "    if i> large:\n",
    "        large=i\n",
    "print(\"max element is \",ls)        "
   ]
  },
  {
   "cell_type": "code",
   "execution_count": 2,
   "id": "fe14d500-3055-4dde-812f-75d2b1b7825e",
   "metadata": {},
   "outputs": [
    {
     "name": "stdout",
     "output_type": "stream",
     "text": [
      "maximum is 67\n"
     ]
    }
   ],
   "source": [
    "large=ls[0]\n",
    "for i in ls:\n",
    "    if i>large:\n",
    "        large=i\n",
    "print(\"maximum is\",large)        "
   ]
  },
  {
   "cell_type": "code",
   "execution_count": 21,
   "id": "09f2bc88-0c2e-4f83-9c67-8cd3b3639ea1",
   "metadata": {},
   "outputs": [
    {
     "name": "stdout",
     "output_type": "stream",
     "text": [
      "[22, 43, 56, 87, 54, 67]\n",
      "[22, 43, 56, 87, 54, 67, 98, 56, 47]\n"
     ]
    }
   ],
   "source": [
    "ls=[22,43,56,87,54,67,]\n",
    "print(ls)\n",
    "ls.extend([98,56,47])\n",
    "print(ls)"
   ]
  },
  {
   "cell_type": "code",
   "execution_count": 22,
   "id": "5b5d96b4-f35d-4b4c-b32b-1db4e5b03ac4",
   "metadata": {},
   "outputs": [
    {
     "name": "stdout",
     "output_type": "stream",
     "text": [
      "[1, 3, 5, 7, 9, 2, 4, 6, 8, 10]\n"
     ]
    }
   ],
   "source": [
    "#concatenate\n",
    "\n",
    "\n",
    "A=[1,3,5,7,9]\n",
    "B=[2,4,6,8,10]\n",
    "c=A+B\n",
    "print(c)"
   ]
  },
  {
   "cell_type": "code",
   "execution_count": 23,
   "id": "c7670ddf-7b39-4156-b460-271caae7e783",
   "metadata": {},
   "outputs": [
    {
     "name": "stdout",
     "output_type": "stream",
     "text": [
      "[1, 3, 5, 7, 9, 2, 4, 6, 8, 10]\n"
     ]
    }
   ],
   "source": [
    "A=[1,3,5,7,9]\n",
    "B=[2,4,6,8,10]\n",
    "A.extend(B)\n",
    "print(A)"
   ]
  },
  {
   "cell_type": "code",
   "execution_count": 3,
   "id": "f8a9491f-b360-489c-a807-77ab15c69094",
   "metadata": {},
   "outputs": [
    {
     "name": "stdout",
     "output_type": "stream",
     "text": [
      "[12, 23, 34, 45, 56, 67, 78]\n",
      "[12, 23, 34, 'preet', 45, 56, 67, 78]\n"
     ]
    }
   ],
   "source": [
    "# insert()\n",
    "\n",
    "#its is used to insert one element at A TIME IN THE list\n",
    "#but you can insert the element at desired index.\n",
    "\n",
    "ls=[12,23,34,45,56,67,78]\n",
    "print(ls)\n",
    "ls.insert(3,\"preet\")\n",
    "print(ls)"
   ]
  },
  {
   "cell_type": "code",
   "execution_count": 4,
   "id": "919c9fc4-a4bd-48f4-8f70-2339a894f17a",
   "metadata": {},
   "outputs": [
    {
     "name": "stdout",
     "output_type": "stream",
     "text": [
      "[12, 23, 34, 45, 56, 1, 2, 23, 34, 45]\n",
      "2\n"
     ]
    }
   ],
   "source": [
    "#count()\n",
    "\n",
    "# it return the frequency of the element in the list.\n",
    "\n",
    "ls=[12,23,34,45,56,1,2,23,34,45]\n",
    "print(ls)\n",
    "x=ls.count(23)\n",
    "print(x)"
   ]
  },
  {
   "cell_type": "code",
   "execution_count": 5,
   "id": "ef9a8765-18a3-499c-98ae-c63b6591056a",
   "metadata": {},
   "outputs": [
    {
     "name": "stdout",
     "output_type": "stream",
     "text": [
      "[12, 23, 34, 45, 56, 1, 2, 23, 34, 45]\n",
      "12 = 1\n",
      "23 = 2\n",
      "34 = 2\n",
      "45 = 2\n",
      "56 = 1\n",
      "1 = 1\n",
      "2 = 1\n",
      "23 = 2\n",
      "34 = 2\n",
      "45 = 2\n"
     ]
    }
   ],
   "source": [
    "ls=[12,23,34,45,56,1,2,23,34,45]\n",
    "print(ls)\n",
    "for i in ls:\n",
    "    x=ls.count(i)\n",
    "    print(i,\"=\",x)"
   ]
  },
  {
   "cell_type": "code",
   "execution_count": 7,
   "id": "76e142ea-3ff3-4ffa-9521-18b3b5560f09",
   "metadata": {},
   "outputs": [
    {
     "name": "stdout",
     "output_type": "stream",
     "text": [
      "original list [12, 34, 45, 56, 12, 77, 89, 89, 76, 56, 45, 34, 32]\n",
      "unique list [12, 34, 45, 56, 77, 89, 76, 32]\n"
     ]
    }
   ],
   "source": [
    "new=[]\n",
    "ls=[12,34,45,56,12,77,89,89,76,56,45,34,32]\n",
    "for i in ls:\n",
    "    if i not in new:\n",
    "        new. append(i)\n",
    "print(\"original list\",ls)\n",
    "print(\"unique list\",new)"
   ]
  },
  {
   "cell_type": "code",
   "execution_count": 8,
   "id": "a2ee3ac4-2b9b-43aa-82d7-fc26ff7f2003",
   "metadata": {},
   "outputs": [
    {
     "name": "stdout",
     "output_type": "stream",
     "text": [
      "[12, 23, 45, 56, 21, 45, 87, 45]\n",
      "[45, 87, 45, 21, 56, 45, 23, 12]\n"
     ]
    }
   ],
   "source": [
    "# reverse()\n",
    "# it is used to print list in reverse order.\n",
    "\n",
    "ls=[12,23,45,56,21,45,87,45]\n",
    "print(ls)\n",
    "ls.reverse()\n",
    "print(ls)"
   ]
  },
  {
   "cell_type": "code",
   "execution_count": 11,
   "id": "ca66fe61-b9b3-4371-84fa-2d6dbbbf423d",
   "metadata": {},
   "outputs": [
    {
     "name": "stdout",
     "output_type": "stream",
     "text": [
      "[12, 23, 21, 3, 45, 43, 65, 56, 87, 45]\n",
      "[3, 12, 21, 23, 43, 45, 45, 56, 65, 87]\n",
      "[87, 65, 56, 45, 45, 43, 23, 21, 12, 3]\n"
     ]
    }
   ],
   "source": [
    "# sort()\n",
    "# it is used to arrange element in ascending or descending order by defalult always ascending\n",
    "\n",
    "ls=[12,23,21,3,45,43,65,56,87,45]\n",
    "print(ls)\n",
    "ls.sort()\n",
    "print(ls)\n",
    "ls.sort(reverse=True)\n",
    "print(ls)"
   ]
  },
  {
   "cell_type": "code",
   "execution_count": 12,
   "id": "79552ff1-216f-478d-84b9-65ad3718cb0e",
   "metadata": {},
   "outputs": [
    {
     "name": "stdout",
     "output_type": "stream",
     "text": [
      "[12, 23, 34, 45, 56, 67, 23]\n",
      "1\n"
     ]
    }
   ],
   "source": [
    "#index()\n",
    "# it return the index of first occurrence of element\n",
    "\n",
    "ls=[12,23,34,45,56,67,23]\n",
    "print(ls)\n",
    "x=ls.index(23)\n",
    "print(x)"
   ]
  },
  {
   "cell_type": "code",
   "execution_count": 13,
   "id": "50402621-dcb9-4e37-9cac-5dde4f212bc7",
   "metadata": {},
   "outputs": [
    {
     "name": "stdout",
     "output_type": "stream",
     "text": [
      "[12, 23, 34, 45, 56, 67, 78, 78]\n",
      "[12, 23, 34, 45, 56, 67, 78, 78]\n",
      "[12, 23, 34, 'hello', 56, 67, 78, 78]\n",
      "[12, 23, 34, 'hello', 56, 67, 78, 78]\n"
     ]
    }
   ],
   "source": [
    "# important\n",
    "\n",
    "#copy()\n",
    "# if we copy a list into another by usingequal operater if we change\n",
    "\n",
    "ls=[12,23,34,45,56,67,78,78]\n",
    "ls1=ls\n",
    "print(ls)\n",
    "print(ls1)\n",
    "ls1[3]=\"hello\"\n",
    "print(ls)\n",
    "print(ls1)\n"
   ]
  },
  {
   "cell_type": "code",
   "execution_count": 14,
   "id": "a2e475ae-3b40-4a7a-a7be-5bc37e6d6f12",
   "metadata": {},
   "outputs": [
    {
     "name": "stdout",
     "output_type": "stream",
     "text": [
      "[12, 23, 34, 45, 56, 67, 78, 78]\n",
      "[12, 23, 34, 45, 56, 67, 78, 78]\n",
      "[12, 23, 34, 45, 56, 67, 78, 78]\n",
      "[12, 23, 34, 'hello', 56, 67, 78, 78]\n"
     ]
    }
   ],
   "source": [
    "ls=[12,23,34,45,56,67,78,78]\n",
    "ls1=ls.copy()\n",
    "print(ls)\n",
    "print(ls1)\n",
    "ls1[3]=\"hello\"\n",
    "print(ls)\n",
    "print(ls1)"
   ]
  },
  {
   "cell_type": "code",
   "execution_count": 15,
   "id": "0a6e5440-3128-46b2-baf6-38a0d31ecf06",
   "metadata": {},
   "outputs": [
    {
     "name": "stdout",
     "output_type": "stream",
     "text": [
      "[1, 2, 3, 4, 5, 6, 7]\n",
      "[]\n"
     ]
    }
   ],
   "source": [
    "# clear()\n",
    "# it return empty list\n",
    "\n",
    "ls=[1,2,3,4,5,6,7]\n",
    "print(ls)\n",
    "ls.clear()\n",
    "print(ls)"
   ]
  },
  {
   "cell_type": "code",
   "execution_count": null,
   "id": "6db24164-3e5f-4b54-bc2e-e7bf640c5831",
   "metadata": {},
   "outputs": [],
   "source": []
  }
 ],
 "metadata": {
  "kernelspec": {
   "display_name": "Python 3 (ipykernel)",
   "language": "python",
   "name": "python3"
  },
  "language_info": {
   "codemirror_mode": {
    "name": "ipython",
    "version": 3
   },
   "file_extension": ".py",
   "mimetype": "text/x-python",
   "name": "python",
   "nbconvert_exporter": "python",
   "pygments_lexer": "ipython3",
   "version": "3.11.7"
  }
 },
 "nbformat": 4,
 "nbformat_minor": 5
}
